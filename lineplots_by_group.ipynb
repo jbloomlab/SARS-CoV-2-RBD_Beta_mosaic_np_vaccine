{
 "cells": [
  {
   "cell_type": "markdown",
   "metadata": {},
   "source": [
    "# Summary plots showing antibody escape as line plots and mapped to RBD surface, averaged across groups.\n",
    "This Python Jupyter notebook plots escape map line plots averaged across groups.\n",
    "\n",
    "Also maps the group-average site-total escape to PDB 6M0J surface. "
   ]
  },
  {
   "cell_type": "markdown",
   "metadata": {},
   "source": [
    "## Imports and configuration\n",
    "Import Python modules:"
   ]
  },
  {
   "cell_type": "code",
   "execution_count": 1,
   "metadata": {},
   "outputs": [],
   "source": [
    "import os\n",
    "import re\n",
    "\n",
    "import collections\n",
    "\n",
    "import Bio.PDB\n",
    "\n",
    "import dms_variants.pdb_utils\n",
    "\n",
    "from IPython.display import display, HTML\n",
    "\n",
    "import math\n",
    "import numpy as np\n",
    "\n",
    "import pandas as pd\n",
    "from plotnine import *\n",
    "\n",
    "import yaml"
   ]
  },
  {
   "cell_type": "markdown",
   "metadata": {},
   "source": [
    "Get configuration:"
   ]
  },
  {
   "cell_type": "code",
   "execution_count": 2,
   "metadata": {},
   "outputs": [],
   "source": [
    "with open('config.yaml') as f:\n",
    "    config = yaml.safe_load(f)\n",
    "    \n",
    "with open(config['lineplots_by_group_config']) as f:\n",
    "    line_plot_config = yaml.safe_load(f)\n",
    "    \n",
    "results_dir = config['lineplots_by_group_dir']\n",
    "os.makedirs(results_dir, exist_ok=True)"
   ]
  },
  {
   "cell_type": "markdown",
   "metadata": {},
   "source": [
    "## Read escape fractions\n",
    "Read the escape fractions for both the B.1.351 plasmas and the early 2020 plasmas, only keeping average of libraries:"
   ]
  },
  {
   "cell_type": "code",
   "execution_count": 3,
   "metadata": {},
   "outputs": [
    {
     "name": "stdout",
     "output_type": "stream",
     "text": [
      "First few lines of escape-fraction data frame:\n"
     ]
    },
    {
     "data": {
      "text/html": [
       "<table border=\"1\" class=\"dataframe\">\n",
       "  <thead>\n",
       "    <tr style=\"text-align: right;\">\n",
       "      <th>condition</th>\n",
       "      <th>site</th>\n",
       "      <th>protein_chain</th>\n",
       "      <th>site_escape</th>\n",
       "    </tr>\n",
       "  </thead>\n",
       "  <tbody>\n",
       "    <tr>\n",
       "      <td>homotypic_6881_7812</td>\n",
       "      <td>331</td>\n",
       "      <td>E</td>\n",
       "      <td>0.06774</td>\n",
       "    </tr>\n",
       "    <tr>\n",
       "      <td>homotypic_6881_7812</td>\n",
       "      <td>331</td>\n",
       "      <td>E</td>\n",
       "      <td>0.06774</td>\n",
       "    </tr>\n",
       "    <tr>\n",
       "      <td>homotypic_6881_7812</td>\n",
       "      <td>331</td>\n",
       "      <td>E</td>\n",
       "      <td>0.06774</td>\n",
       "    </tr>\n",
       "    <tr>\n",
       "      <td>homotypic_6881_7812</td>\n",
       "      <td>331</td>\n",
       "      <td>E</td>\n",
       "      <td>0.06774</td>\n",
       "    </tr>\n",
       "    <tr>\n",
       "      <td>homotypic_6881_7812</td>\n",
       "      <td>331</td>\n",
       "      <td>E</td>\n",
       "      <td>0.06774</td>\n",
       "    </tr>\n",
       "  </tbody>\n",
       "</table>"
      ],
      "text/plain": [
       "<IPython.core.display.HTML object>"
      ]
     },
     "metadata": {},
     "output_type": "display_data"
    }
   ],
   "source": [
    "escape_frac_files = [config['escape_fracs']]\n",
    "\n",
    "site_metrics = {\n",
    "                config['escape_fracs']: config['site_metric'],\n",
    "               }\n",
    "\n",
    "escape_fracs_dfs = []\n",
    "\n",
    "for f in escape_frac_files:\n",
    "    \n",
    "    site_metric = site_metrics[f]\n",
    "\n",
    "    df = (pd.read_csv(f)\n",
    "          .query('library == \"average\"')\n",
    "          .drop(columns=['site', 'selection', 'library'])\n",
    "          .rename(columns={'label_site': 'site',\n",
    "                           site_metric: 'site_escape'\n",
    "                          }\n",
    "                 )\n",
    "          [['condition', 'site', 'protein_chain', 'site_escape']]\n",
    "         )\n",
    "    escape_fracs_dfs.append(df)\n",
    "\n",
    "escape_fracs=pd.concat(escape_fracs_dfs)\n",
    "\n",
    "# make \"padding\" data frame covering all conditions, sites, and mutations\n",
    "first_site = escape_fracs['site'].min()\n",
    "last_site = escape_fracs['site'].max()\n",
    "\n",
    "pad_df = pd.concat([pd.DataFrame({'condition': condition,\n",
    "                                  'site': list(range(first_site, last_site + 1)),\n",
    "                                 })\n",
    "                    for condition in escape_fracs['condition'].unique()\n",
    "                   ])\n",
    "\n",
    "# pad escape fracs data frame\n",
    "escape_fracs = (\n",
    "    escape_fracs\n",
    "    .merge(pad_df, how='outer')\n",
    "    .fillna(0)\n",
    "    .assign(protein_chain='E')\n",
    "    )\n",
    "\n",
    "escape_fracs.query('site_escape==361').head()\n",
    "\n",
    "print('First few lines of escape-fraction data frame:')\n",
    "display(HTML(escape_fracs.head().to_html(index=False)))"
   ]
  },
  {
   "cell_type": "markdown",
   "metadata": {},
   "source": [
    "## Make group-averaged line plots"
   ]
  },
  {
   "cell_type": "code",
   "execution_count": 4,
   "metadata": {},
   "outputs": [
    {
     "name": "stderr",
     "output_type": "stream",
     "text": [
      "/loc/scratch/46867390/ipykernel_16356/1068878828.py:33: FutureWarning: The frame.append method is deprecated and will be removed from pandas in a future version. Use pandas.concat instead.\n",
      "/fh/fast/bloom_j/computational_notebooks/agreaney/2022/SARS-CoV-2-RBD_Beta_mosaic_np_vaccine/env/lib/python3.8/site-packages/plotnine/scales/scale_alpha.py:68: PlotnineWarning: Using alpha for a discrete variable is not advised.\n",
      "/fh/fast/bloom_j/computational_notebooks/agreaney/2022/SARS-CoV-2-RBD_Beta_mosaic_np_vaccine/env/lib/python3.8/site-packages/plotnine/utils.py:371: FutureWarning: The frame.append method is deprecated and will be removed from pandas in a future version. Use pandas.concat instead.\n",
      "/fh/fast/bloom_j/computational_notebooks/agreaney/2022/SARS-CoV-2-RBD_Beta_mosaic_np_vaccine/env/lib/python3.8/site-packages/plotnine/utils.py:371: FutureWarning: The frame.append method is deprecated and will be removed from pandas in a future version. Use pandas.concat instead.\n"
     ]
    },
    {
     "name": "stdout",
     "output_type": "stream",
     "text": [
      "Saving to results/lineplots_by_group/mosaic_homotypic_grouped_lineplots.pdf\n"
     ]
    },
    {
     "name": "stderr",
     "output_type": "stream",
     "text": [
      "/fh/fast/bloom_j/computational_notebooks/agreaney/2022/SARS-CoV-2-RBD_Beta_mosaic_np_vaccine/env/lib/python3.8/site-packages/plotnine/utils.py:371: FutureWarning: The frame.append method is deprecated and will be removed from pandas in a future version. Use pandas.concat instead.\n",
      "/fh/fast/bloom_j/computational_notebooks/agreaney/2022/SARS-CoV-2-RBD_Beta_mosaic_np_vaccine/env/lib/python3.8/site-packages/plotnine/utils.py:371: FutureWarning: The frame.append method is deprecated and will be removed from pandas in a future version. Use pandas.concat instead.\n"
     ]
    },
    {
     "data": {
      "image/png": "[encoded data removed]",
      "text/plain": [
       "<Figure size 500x400 with 2 Axes>"
      ]
     },
     "metadata": {},
     "output_type": "display_data"
    }
   ],
   "source": [
    "for supergroup, subgroup in line_plot_config.items():\n",
    "\n",
    "    lineplot_df = pd.DataFrame()\n",
    "    annotation_df = pd.DataFrame()\n",
    "\n",
    "    for name, conditions in subgroup.items():\n",
    "        \n",
    "        assert set(conditions).issubset(set(escape_fracs['condition']))\n",
    "\n",
    "        df = (escape_fracs\n",
    "              .query('condition in @conditions')\n",
    "              .assign(group_name=name,))\n",
    "        \n",
    "        lineplot_df = (pd.concat([lineplot_df,df], axis=0, ignore_index=True))\n",
    "\n",
    "        label_df = (pd.DataFrame({'xmin': [382,482,454,442,416,471,474,498],\n",
    "                                 'xmax': [409,495,457,451,418,473,479,503],\n",
    "                                 'antibody_class': ['class 4', 'class 2', 'class 1', 'class 3', 'class 1','class 2','class 1','class 3'],\n",
    "                                 'label': ['383-408','483-494','455-456','443-450','417','472','475-478','499-501'],\n",
    "                                }\n",
    "                               )\n",
    "                    .assign(group_name=name,)\n",
    "                   )\n",
    "        annotation_df = pd.concat([annotation_df, label_df], axis=0, ignore_index=True)\n",
    "\n",
    "    lineplot_df = (lineplot_df\n",
    "        [['condition', 'site', 'site_escape', 'group_name']]\n",
    "        .drop_duplicates()\n",
    "        )\n",
    "\n",
    "    # add mean in each group\n",
    "    df_with_mean = (\n",
    "        lineplot_df\n",
    "        .append(lineplot_df.groupby(['group_name', 'site'], as_index=False)\n",
    "                      .aggregate('mean')\n",
    "                      .assign(condition='mean')\n",
    "                )\n",
    "        .assign(is_mean=lambda x: x['condition'] == 'mean')\n",
    "        )\n",
    "\n",
    "    annotation_df = (annotation_df\n",
    "                     .assign(group_name=lambda x: pd.Categorical(x['group_name'], ordered=True,\n",
    "                                                                 categories=subgroup.keys()\n",
    "                                                                )\n",
    "                            ) \n",
    "                    )\n",
    "\n",
    "    # space breaks every ? sites\n",
    "    site_break_freq = 10\n",
    "    def get_site_breaks(tup):\n",
    "        start = int(math.ceil(tup[0] / site_break_freq)) * site_break_freq\n",
    "        end = int(math.floor(tup[1] / site_break_freq)) * site_break_freq\n",
    "        return list(range(start, end + 1, site_break_freq))\n",
    "\n",
    "    # make plot\n",
    "    p = (ggplot(df_with_mean\n",
    "                .assign(group_name=lambda x: pd.Categorical(x['group_name'], ordered=True,\n",
    "                                                            categories=subgroup.keys()\n",
    "                                                           )\n",
    "                       )\n",
    "               ) +\n",
    "         aes('site', 'site_escape',\n",
    "             group='condition',\n",
    "             alpha='is_mean', size='is_mean') +\n",
    "\n",
    "         geom_rect(data=annotation_df.assign(is_mean=False),\n",
    "                   mapping=aes(xmin='xmin',\n",
    "                               xmax='xmax',\n",
    "                               ymin=-np.inf,\n",
    "                               ymax=np.inf,\n",
    "                               fill='antibody_class',\n",
    "                              ),\n",
    "                   alpha=0.75,\n",
    "                   inherit_aes=False,\n",
    "                  ) +\n",
    "\n",
    "         geom_line() +\n",
    "         facet_wrap('~ group_name', ncol=1) +\n",
    "         theme_classic() +\n",
    "         theme(figure_size=(5, 2 * df_with_mean['group_name'].nunique()),\n",
    "               axis_text_x=element_text(rotation=90, hjust=0.5),\n",
    "               strip_background=element_blank(),\n",
    "               ) +\n",
    "         scale_x_continuous(expand=(0, 0), breaks=get_site_breaks) +\n",
    "         scale_y_continuous(limits=(None, (df_with_mean.query('is_mean')['site_escape'].max()*1.5))) +\n",
    "         scale_alpha_discrete(range=(0.25, 1)) +  # transparency of individual and mean lines\n",
    "         scale_size_manual(values=(0.25, 0.5)) +  # size of individual and mean lines\n",
    "         scale_color_manual(values=['#e52794', '#6a0dad', '#66ccee', '#E69F00']) +\n",
    "         scale_fill_manual(values=['#e52794', '#6a0dad', '#66ccee', '#E69F00']) +\n",
    "         guides(alpha=False, size=False, )+ #color=False, fill=False\n",
    "         labs(x=\"RBD site\",\n",
    "              y=\"site-total antibody escape\",\n",
    "              color='antibody epitope',\n",
    "              fill='antibody epitope',\n",
    "             )\n",
    "         ) \n",
    "        \n",
    "\n",
    "    plotfile = f'{results_dir}/{supergroup}_grouped_lineplots.pdf'\n",
    "    print(f\"Saving to {plotfile}\")\n",
    "    p.save(plotfile, verbose=False)\n",
    "\n",
    "    _ = p.draw()"
   ]
  },
  {
   "cell_type": "markdown",
   "metadata": {},
   "source": [
    "## Map the average site-total escape for a given antibody class or plasma/serum group to the RBD surface.\n",
    "\n",
    "Outputs modified 6M0J PDBs with the escape scores as B factors.\n",
    "\n",
    "Though we will want more elaborate series of commands to codify our visualization of these RBD structures colored by escape, the series of commands below, when executed in a PyMol session with one of these PDBs open, will color the RBD surface according to escape scores."
   ]
  },
  {
   "cell_type": "code",
   "execution_count": 5,
   "metadata": {},
   "outputs": [
    {
     "name": "stdout",
     "output_type": "stream",
     "text": [
      "\n",
      "Making PDB mappings for the average of 6 conditions for mosaic-8RBD to data/pdbs/6M0J.pdb\n",
      "Mapping to the following chain: E\n",
      "  Writing B-factor re-assigned PDBs for mosaic-8RBD to:\n",
      "    results/lineplots_by_group/mosaic-8RBD_6m0j_mean_total_escape.pdb\n",
      "\n",
      "Making PDB mappings for the average of 2 conditions for homotypicBetaRBD to data/pdbs/6M0J.pdb\n",
      "Mapping to the following chain: E\n",
      "  Writing B-factor re-assigned PDBs for homotypicBetaRBD to:\n",
      "    results/lineplots_by_group/homotypicBetaRBD_6m0j_mean_total_escape.pdb\n"
     ]
    }
   ],
   "source": [
    "pdbfile = 'data/pdbs/6M0J.pdb'\n",
    "assert os.path.isfile(pdbfile)\n",
    "rbd_chain = config['escape_frac_protein_chain']\n",
    "assert isinstance(rbd_chain, str)\n",
    "\n",
    "for supergroup, subgroup in line_plot_config.items():\n",
    "\n",
    "    for name, conditions in subgroup.items():\n",
    "        \n",
    "        name=name.replace('.', '')\n",
    "        name=name.replace(' ', '')\n",
    "        name=re.search(r\"^[^\\(]*\", name).group(0)\n",
    "        \n",
    "        print(f\"\\nMaking PDB mappings for the average of {len(conditions)} conditions for {name} to {pdbfile}\")\n",
    "\n",
    "        # get escape fracs just for conditions of interest\n",
    "        df = escape_fracs.query('condition in @conditions')\n",
    "\n",
    "        # assign average total_escape at each site across all the conditions in ab_class\n",
    "        df = (df\n",
    "              .groupby(['site'])\n",
    "              .aggregate(mean_total_escape=pd.NamedAgg('site_escape', 'mean'),\n",
    "                          )\n",
    "              .reset_index()\n",
    "              .drop_duplicates()\n",
    "             )\n",
    "\n",
    "        # get chains\n",
    "        print(f'Mapping to the following chain: {rbd_chain}')\n",
    "        df = df.assign(chain=rbd_chain)\n",
    "\n",
    "\n",
    "        # make mappings for each condition and metric\n",
    "        print(f\"  Writing B-factor re-assigned PDBs for {name} to:\")\n",
    "\n",
    "        for metric in ['mean_total_escape']: # keeping this as list because we might need to normalize\n",
    "\n",
    "            # what do we assign to missing sites?\n",
    "            missing_metric = collections.defaultdict(lambda: 0)  # non-RBD chains always fill to zero\n",
    "            \n",
    "            # note that the next line DOESN'T ACTUALLY WORK AS INTENDED because I'm using padded escape fracs\n",
    "            missing_metric[rbd_chain] = -1  # missing sites in RBD are -1 for non-normalized metric PDBs\n",
    "\n",
    "            fname = os.path.join(results_dir, f\"{name}_6m0j_{metric}.pdb\")\n",
    "            print(f\"    {fname}\")\n",
    "\n",
    "            dms_variants.pdb_utils.reassign_b_factor(input_pdbfile=pdbfile,\n",
    "                                                     output_pdbfile=fname,\n",
    "                                                     df=df,\n",
    "                                                     metric_col=metric,\n",
    "                                                     missing_metric=missing_metric)"
   ]
  },
  {
   "cell_type": "code",
   "execution_count": null,
   "metadata": {},
   "outputs": [],
   "source": []
  }
 ],
 "metadata": {
  "language_info": {
   "name": "python"
  }
 },
 "nbformat": 4,
 "nbformat_minor": 4
}
